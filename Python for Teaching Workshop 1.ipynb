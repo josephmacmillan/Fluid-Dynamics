{
 "cells": [
  {
   "cell_type": "markdown",
   "metadata": {},
   "source": [
    "# Python for Teaching\n",
    "## Workshop 1\n",
    "\n",
    "This workshop will take you through the basic steps of using Python in your course.  Although this is written with Physics courses in mind, it should be useful to anyone wanting to try out Python in the classroom.\n",
    "\n",
    "We'll go through the basics first, then build up to some common problems you might want to ask your students to do:\n",
    "\n",
    "* How to download and install Python\n",
    "* How to run Jupyter and create a new Jupyter notebook\n",
    "* Navigating and running Jupyter notebooks\n",
    "* Basic markdown and Python syntax\n",
    "* Solving our first problem\n",
    "* Using NumPy for better numerical computing\n",
    "* Plotting with MatPlotLib\n",
    "\n",
    "### The Problem\n",
    "\n",
    "Let's start with the actual problem we'll solve in this workshop.  It's a physics example, but it's also easily extendable to any ordinary differential equation you want.\n",
    "\n",
    "Consider a particle of mass $m$ moving under the influence of some net force $F$, which might depend on the position $x$ of the particle, or it's velocity \n",
    "$$\n",
    "v \\equiv \\frac{dx}{dt},\n",
    "$$\n",
    "or even the time $t$.  The equation of motion is of course just Newton's second law, $F = ma$, or in differential form\n",
    "$$\n",
    "\\frac{d^2x}{dt^2} = \\frac{F}{m}.\n",
    "$$\n",
    "Our goal is to solve this ODE using Python.  In fact, it's important to note that except in special cases ($F$ constant, or dependent on velocity in only very simple ways), this equation *can't$ be solved in any other way than numerically.\n",
    "\n",
    "In addition to the ODE, we'll also require initial conditions, so let's suppose the particle is released from rest a height $h = 100$ m above the ground, and is under the influence of gravity only for now.  This is a simple case, which means we'll be able to check our results as we go, and then extend to more interesting cases later.\n",
    "\n",
    "#### The Numerical Setup\n",
    "\n",
    "Before we play with Python, we need to know *how* to solve problems like this in general.  So bare with me, I'll take this slow so we can see how the algorithm builds.\n",
    "\n",
    "First, let's rewrite the second-order ODE as two first-order ODEs using the definition of velocity:\n",
    "$$\n",
    "\\frac{dx}{dt} = v,\n",
    "$$\n",
    "$$\n",
    "\\frac{dv}{dt} = \\frac{F}{m}.\n",
    "$$\n",
    "These are now *coupled* equations, but their first-order nature makes it simple to turn these into \"finite difference\" equations by supposing the differentials $dx$, $dv$, and $dt$ become finite differences $\\Delta x$, $\\Delta v$, and $\\Delta t$.  One more rewrite for this:\n",
    "$$\n",
    "\\Delta x = v\\, \\Delta t,\n",
    "$$\n",
    "$$\n",
    "\\Delta v = \\frac{F}{m} \\, \\Delta t.\n",
    "$$\n",
    "Now we have a prescription for finding the position $x$ and velocity $v$ at a later time, given those values at an earlier time.\n",
    "\n",
    "For example, suppose at $t = t_0 = 0$ s, we have $x_0 = 100$ m and $v_0 = 0$ m/s.  What are those quantities a short time $\\Delta t$ later?  We can use the subscript to denote each *timestep*, and for concreteness let $\\Delta t = 0.01$ s.  Then at $t_1 = t_0 + \\Delta t$, we have\n",
    "$$\n",
    "x_1 = x_0 + \\Delta x = x_0 + v_0 \\Delta t \\quad \\text{and} \\quad v_1 = v_0 + \\Delta v = v_0 + \\frac{F(x_0, v_0, t_0)}{m} \\Delta t.\n",
    "$$\n",
    "To find $x$ and $v$ at $t_2 = t_1 + \\Delta t$, we just repeat the procedure:\n",
    "$$\n",
    "x_2 = x_1 + \\Delta x = x_1 + v_1 \\Delta t \\quad \\text{and} \\quad v_2 = v_1 + \\Delta v = v_1 + \\frac{F(x_1, v_1, t_1)}{m} \\Delta t,\n",
    "$$\n",
    "and so on until you've integrated to the time you'd like to stop at.\n",
    "\n",
    "This method is called *Euler's method*, and it's pretty much the worst one out there -- but also the simplest.  There are cleverer methods that use tricks to reduce error as you propagate the solution, but you can explore those on your own.  Clearly, Euler's method is fairly simple to implement programmatically -- you can even do it in an Excel spreadsheet -- and we'll do that below.\n",
    "\n",
    "But first -- Python!\n",
    "\n",
    "### Installing Python\n",
    "\n",
    "The simplest way to get Python on your (Windows, I assume) computer is via Anaconda, a product that packages up Python as well as a bunch of libraries (which are like extensions of the Python language itself) that are great for numerical computing.  So, download it now:\n",
    "\n",
    "https://www.anaconda.com/distribution/#download-section\n",
    "\n",
    "Go for the 3.7 version, it's way better.\n",
    "\n",
    "Then go ahead and install it -- you can choose \"Just for me\" and use the default location and default advanced options.  It takes a little while to download and install, so I'll wait.  Don't feel bad about unchecking the \"Learn more about ...\" buttons, that's what I'm here for.\n",
    "\n",
    "Okay, all done?  Great.  Now how do we Python, anyway?\n",
    "\n",
    "### Running Python\n",
    "\n",
    "Anaconda gives you two decent options for programming in Python:\n",
    "* *Spyder* is an integrated development environment (IDE) -- it gives you a text editor to write code in, and allows you to run it with output appearing in the window.  It works well, and I recommend trying it out.  But ...\n",
    "* *Jupyter* is a web server environment for Python, and it allows you to write and run \"Notebooks,\" which can combine both text/images and code.  I think it's a pretty ideal environment for teaching, and it's what we'll use today.\n",
    "\n",
    "So, click on your start menu, then Anaconda, then Jupyter Notebook.  After a few seconds, a webpage should open in your browser with an address of \"localhost:8888/tree.\"  You can browse to a good location on your computer and then click \"New\" on the right to open a new Python 3 notebook.\n",
    "\n",
    "Once in the notebook, look around.  There are options to change the name of it from \"Untitled\", create a new cell, run the current cell, and, in the drop down box that should say \"Code\", a way to switch the type of cell.  We'll only use *code* and *markdown* cells.  Change to a Markdown cell and type \"# Python for Teaching\" and then Run that cell.  You made a heading!  In fact, you can do lots of things in a markdown cell -- it follows standard markdown rules (see for example https://www.markdownguide.org/basic-syntax) and you can also use Latex syntax for equations (in between dollar signs).\n",
    "\n",
    "### Programming Python\n",
    "\n",
    "Okay, let's do some actual programming now (finally!).  The customary first program is one that prints the phrase \"Hello, world!\" to the screen, but in Python that's just a one-liner:"
   ]
  },
  {
   "cell_type": "code",
   "execution_count": 13,
   "metadata": {},
   "outputs": [
    {
     "name": "stdout",
     "output_type": "stream",
     "text": [
      "Hello, world!\n"
     ]
    }
   ],
   "source": [
    "print(\"Hello, world!\")"
   ]
  },
  {
   "cell_type": "markdown",
   "metadata": {},
   "source": [
    "But notice a few things:  \"print\" is a function, which takes a string as input.  We'll make our own functions later.  The string itself is enclosed in double quotes, but single quotes work too.  \n",
    "\n",
    "Let's do something a little more interesting, but still fairly straightforward:  print the Fibonacci sequence."
   ]
  },
  {
   "cell_type": "code",
   "execution_count": 14,
   "metadata": {},
   "outputs": [
    {
     "name": "stdout",
     "output_type": "stream",
     "text": [
      "0\n",
      "1\n",
      "1\n",
      "2\n",
      "3\n",
      "5\n",
      "8\n",
      "13\n",
      "21\n",
      "34\n"
     ]
    }
   ],
   "source": [
    "n1 = 0\n",
    "n2 = 1\n",
    "for i in range(10):\n",
    "    print(n1)\n",
    "    n3 = n1 + n2\n",
    "    n1 = n2\n",
    "    n2 = n3"
   ]
  },
  {
   "cell_type": "markdown",
   "metadata": {},
   "source": [
    "This is an example of a *loop* in Python -- in this case, a for loop.  The for loop in this case iterates over the numbers 0 to 9, assigning the value of each one to i in each loop. Note that the indent is what tells Python what shold be done in each iteration of the loop.  There are other loops available, too -- a \"while\" loop can be useful as we'll see below.\n",
    "\n",
    "Some other things you might need, really quick:\n",
    "* Importing libraries.  If you need to use things beyond what Python calls \"built-ins\", you'll need to import them first.  For example, suppose we want to use the number pi:"
   ]
  },
  {
   "cell_type": "code",
   "execution_count": 15,
   "metadata": {},
   "outputs": [
    {
     "name": "stdout",
     "output_type": "stream",
     "text": [
      "3.141592653589793\n"
     ]
    }
   ],
   "source": [
    "from math import pi\n",
    "\n",
    "print(pi)"
   ]
  },
  {
   "cell_type": "markdown",
   "metadata": {},
   "source": [
    "If you need more than just one thing, you can import everything:"
   ]
  },
  {
   "cell_type": "code",
   "execution_count": 16,
   "metadata": {},
   "outputs": [
    {
     "name": "stdout",
     "output_type": "stream",
     "text": [
      "1.0\n"
     ]
    }
   ],
   "source": [
    "from math import *\n",
    "\n",
    "print(sin(pi/2))"
   ]
  },
  {
   "cell_type": "markdown",
   "metadata": {},
   "source": [
    "For reasons of namespace separation, sometimes it's better to import the library with a short name:"
   ]
  },
  {
   "cell_type": "code",
   "execution_count": 17,
   "metadata": {},
   "outputs": [],
   "source": [
    "import numpy as np"
   ]
  },
  {
   "cell_type": "markdown",
   "metadata": {},
   "source": [
    "Numpy is the numerical python library, and it has it's own set of math functions, as well as a ton of other stuff.  We'll use it extensively below, so us importing it now is good for later."
   ]
  },
  {
   "cell_type": "code",
   "execution_count": 18,
   "metadata": {},
   "outputs": [
    {
     "name": "stdout",
     "output_type": "stream",
     "text": [
      "1.0\n",
      "1.0\n"
     ]
    }
   ],
   "source": [
    "print(sin(pi/2))\n",
    "print(np.sin(np.pi/2))"
   ]
  },
  {
   "cell_type": "markdown",
   "metadata": {},
   "source": [
    "* Strings are a bunch of characters stuck together.  You can define them using quotes, and they can be manipulated in various ways.  For example, suppose you want to take a filename, strip off its extension, and add a new one.  You can do that using the built-in string commands like so:"
   ]
  },
  {
   "cell_type": "code",
   "execution_count": 19,
   "metadata": {},
   "outputs": [
    {
     "name": "stdout",
     "output_type": "stream",
     "text": [
      "test.py\n",
      "['test', 'py']\n",
      "test.png\n"
     ]
    }
   ],
   "source": [
    "filename = \"test.py\"\n",
    "print(filename)\n",
    "filename = filename.split(\".\")\n",
    "print(filename)\n",
    "filename = filename[0] + \".png\"\n",
    "print(filename)"
   ]
  },
  {
   "cell_type": "markdown",
   "metadata": {},
   "source": [
    "* Functions can make code more resuable and save time.  Let's turn our Fibonacci sequence into a function:"
   ]
  },
  {
   "cell_type": "code",
   "execution_count": 20,
   "metadata": {},
   "outputs": [],
   "source": [
    "def fibonacci(max = 10):\n",
    "    n1 = 0\n",
    "    n2 = 1\n",
    "    for i in range(max):\n",
    "        print(n1)\n",
    "        n3 = n1 + n2\n",
    "        n1 = n2\n",
    "        n2 = n3"
   ]
  },
  {
   "cell_type": "markdown",
   "metadata": {},
   "source": [
    "We can run the function any time we want.  Notice the use of a default input!"
   ]
  },
  {
   "cell_type": "code",
   "execution_count": 21,
   "metadata": {},
   "outputs": [
    {
     "name": "stdout",
     "output_type": "stream",
     "text": [
      "0\n",
      "1\n",
      "1\n",
      "2\n",
      "3\n",
      "5\n",
      "8\n",
      "13\n",
      "21\n",
      "34\n",
      "\n",
      "0\n",
      "1\n",
      "1\n",
      "2\n",
      "3\n",
      "\n",
      "0\n",
      "1\n",
      "1\n",
      "2\n",
      "3\n",
      "5\n",
      "8\n",
      "13\n",
      "21\n",
      "34\n",
      "55\n",
      "89\n",
      "144\n",
      "233\n",
      "377\n",
      "610\n"
     ]
    }
   ],
   "source": [
    "fibonacci()\n",
    "print()\n",
    "fibonacci(5)\n",
    "print()\n",
    "fibonacci(16)"
   ]
  },
  {
   "cell_type": "markdown",
   "metadata": {},
   "source": [
    "There's lots more about Python that we didn't cover here, of course -- this just scratches the surface.  But it's enough for now -- let's get into NumPy.\n",
    "\n",
    "### NumPy\n",
    "\n",
    "NumPy is a package for scientific computing for Python.  It has lots of things that are useful, but what we'll deal with here are NumPy arrays.  Python doesn't have a built-in fast array type (it has lists, which are very slow), and NumPy fills this hole.  Like most other languages, you have to set up these arrays before using them.  Usually you can do that with the zeros function in NumPy, although other initializations are possible:"
   ]
  },
  {
   "cell_type": "code",
   "execution_count": 22,
   "metadata": {},
   "outputs": [
    {
     "name": "stdout",
     "output_type": "stream",
     "text": [
      "[0. 0. 0. 0. 0. 0. 0. 0. 0. 0.]\n",
      "[1. 1. 1. 1. 1. 1. 1. 1. 1. 1.]\n",
      "[3.14159265 3.14159265 3.14159265 3.14159265 3.14159265 3.14159265\n",
      " 3.14159265 3.14159265 3.14159265 3.14159265]\n",
      "[0.         0.34906585 0.6981317  1.04719755 1.3962634  1.74532925\n",
      " 2.0943951  2.44346095 2.7925268  3.14159265]\n",
      "[0.  0.1 0.2 0.3 0.4 0.5 0.6 0.7 0.8 0.9 1.  1.1 1.2 1.3 1.4 1.5 1.6 1.7\n",
      " 1.8 1.9 2.  2.1 2.2 2.3 2.4 2.5 2.6 2.7 2.8 2.9 3.  3.1]\n"
     ]
    }
   ],
   "source": [
    "N = 10\n",
    "a1 = np.zeros(N)  # creates a 10-element array and fills it with zeros\n",
    "a2 = np.ones(N)  # creates a 10-element array and fills it with ones\n",
    "a3 = np.full(N, np.pi)   # creates a 10-element array and fills it with pi\n",
    "\n",
    "a4 = np.linspace(0, np.pi, N)  # creates a 10-element array and fills it with numbers from 0 to pi\n",
    "a5 = np.arange(0, np.pi, 0.1)  # creates an array and fills it with numbers from 0 to pi (however many it needs)\n",
    "\n",
    "print(a1)\n",
    "print(a2)\n",
    "print(a3)\n",
    "print(a4)\n",
    "print(a5)"
   ]
  },
  {
   "cell_type": "markdown",
   "metadata": {},
   "source": [
    "You can do operations on array as though they were regular numbers, and you can \"slice\" them to carve out just some of the data.  Here's some examples:"
   ]
  },
  {
   "cell_type": "code",
   "execution_count": 24,
   "metadata": {},
   "outputs": [
    {
     "name": "stdout",
     "output_type": "stream",
     "text": [
      "[3.14159265 3.4906585  3.83972435 4.1887902  4.53785606 4.88692191\n",
      " 5.23598776 5.58505361 5.93411946 6.28318531]\n",
      "[3.14159265 3.4906585  3.83972435]\n"
     ]
    }
   ],
   "source": [
    "a6 = a3 + a4\n",
    "print(a6)\n",
    "print(a6[0:3])"
   ]
  },
  {
   "cell_type": "markdown",
   "metadata": {},
   "source": [
    "Okay, we're ready to actually tackle our problem.\n",
    "\n",
    "## Solving the Problem with Python and NumPy\n",
    "\n",
    "Let's set this up with some variables for our initial conditions and other useful things like constants:"
   ]
  },
  {
   "cell_type": "code",
   "execution_count": 25,
   "metadata": {},
   "outputs": [],
   "source": [
    "# constants and variables we might need\n",
    "g = 9.80 # in m/s^2\n",
    "m = 1.0 # kg\n",
    "\n",
    "# ICs\n",
    "x_0 = 100.0 # m\n",
    "v_0 = 0.0   # m/s\n",
    "t_start = 0.0\n",
    "t_end = 4.5 # theory says it should free fall to the ground in 4.51 s\n",
    "\n",
    "# the timestep -- smaller is better but slower\n",
    "dt = 0.01\n",
    "\n",
    "# Initialize an array to hold the time values\n",
    "t = np.arange(t_start, t_end, dt)\n",
    "\n",
    "# how many elements are in the array?  This will be useful for other arrays.\n",
    "N = len(t)  # len is a built-in Python function that tells you how long the array is\n",
    "\n",
    "# initialize arrays to hold our data\n",
    "x = np.zeros(N)\n",
    "v = np.zeros(N)\n",
    "\n",
    "# Set the first element to the ICs\n",
    "x[0] = x_0\n",
    "v[0] = v_0"
   ]
  },
  {
   "cell_type": "markdown",
   "metadata": {},
   "source": [
    "There's one other thing we'll need before we start the solution, and that's a function for the force the particle feels.  We'll make it a function so that it's easy to change later if we want to."
   ]
  },
  {
   "cell_type": "code",
   "execution_count": 26,
   "metadata": {},
   "outputs": [],
   "source": [
    "def force(x, v, t):\n",
    "    # for now, just take the force to be gravity, directed down\n",
    "    return -1.0 * m * g\n",
    "    #return -1.0 * m * g + 0.05 * v**2"
   ]
  },
  {
   "cell_type": "markdown",
   "metadata": {},
   "source": [
    "That's a lot of initializing, but we're ready to solve the problem now.  All we need is a loop where we implement Euler's method from above, where each array element is found from the previous:\n",
    "$$\n",
    "x_{i} = x_{i-1} + \\Delta x,\n",
    "$$\n",
    "$$\n",
    "v_{i} = v_{i-1} + \\Delta v.\n",
    "$$\n",
    "Here it is:"
   ]
  },
  {
   "cell_type": "code",
   "execution_count": 27,
   "metadata": {},
   "outputs": [],
   "source": [
    "for i in range(1, N):\n",
    "    \n",
    "    dx = v[i-1] * dt\n",
    "    x[i] = x[i-1] + dx\n",
    "    \n",
    "    dv = force(x[i-1], v[i-1], t[i-1]) / m * dt\n",
    "    v[i] = v[i-1] + dv"
   ]
  },
  {
   "cell_type": "markdown",
   "metadata": {},
   "source": [
    "Okay, what do we have?  Two arrays, for $x$ and $v$, along with the time.  We can print them out, I guess:"
   ]
  },
  {
   "cell_type": "code",
   "execution_count": 28,
   "metadata": {},
   "outputs": [
    {
     "name": "stdout",
     "output_type": "stream",
     "text": [
      "[100.      100.       99.99902  99.99706  99.99412  99.9902   99.9853\n",
      "  99.97942  99.97256  99.96472  99.9559   99.9461   99.93532  99.92356\n",
      "  99.91082  99.8971   99.8824   99.86672  99.85006  99.83242  99.8138\n",
      "  99.7942   99.77362  99.75206  99.72952  99.706    99.6815   99.65602\n",
      "  99.62956  99.60212  99.5737   99.5443   99.51392  99.48256  99.45022\n",
      "  99.4169   99.3826   99.34732  99.31106  99.27382  99.2356   99.1964\n",
      "  99.15622  99.11506  99.07292  99.0298   98.9857   98.94062  98.89456\n",
      "  98.84752  98.7995   98.7505   98.70052  98.64956  98.59762  98.5447\n",
      "  98.4908   98.43592  98.38006  98.32322  98.2654   98.2066   98.14682\n",
      "  98.08606  98.02432  97.9616   97.8979   97.83322  97.76756  97.70092\n",
      "  97.6333   97.5647   97.49512  97.42456  97.35302  97.2805   97.207\n",
      "  97.13252  97.05706  96.98062  96.9032   96.8248   96.74542  96.66506\n",
      "  96.58372  96.5014   96.4181   96.33382  96.24856  96.16232  96.0751\n",
      "  95.9869   95.89772  95.80756  95.71642  95.6243   95.5312   95.43712\n",
      "  95.34206  95.24602  95.149    95.051    94.95202  94.85206  94.75112\n",
      "  94.6492   94.5463   94.44242  94.33756  94.23172  94.1249   94.0171\n",
      "  93.90832  93.79856  93.68782  93.5761   93.4634   93.34972  93.23506\n",
      "  93.11942  93.0028   92.8852   92.76662  92.64706  92.52652  92.405\n",
      "  92.2825   92.15902  92.03456  91.90912  91.7827   91.6553   91.52692\n",
      "  91.39756  91.26722  91.1359   91.0036   90.87032  90.73606  90.60082\n",
      "  90.4646   90.3274   90.18922  90.05006  89.90992  89.7688   89.6267\n",
      "  89.48362  89.33956  89.19452  89.0485   88.9015   88.75352  88.60456\n",
      "  88.45462  88.3037   88.1518   87.99892  87.84506  87.69022  87.5344\n",
      "  87.3776   87.21982  87.06106  86.90132  86.7406   86.5789   86.41622\n",
      "  86.25256  86.08792  85.9223   85.7557   85.58812  85.41956  85.25002\n",
      "  85.0795   84.908    84.73552  84.56206  84.38762  84.2122   84.0358\n",
      "  83.85842  83.68006  83.50072  83.3204   83.1391   82.95682  82.77356\n",
      "  82.58932  82.4041   82.2179   82.03072  81.84256  81.65342  81.4633\n",
      "  81.2722   81.08012  80.88706  80.69302  80.498    80.302    80.10502\n",
      "  79.90706  79.70812  79.5082   79.3073   79.10542  78.90256  78.69872\n",
      "  78.4939   78.2881   78.08132  77.87356  77.66482  77.4551   77.2444\n",
      "  77.03272  76.82006  76.60642  76.3918   76.1762   75.95962  75.74206\n",
      "  75.52352  75.304    75.0835   74.86202  74.63956  74.41612  74.1917\n",
      "  73.9663   73.73992  73.51256  73.28422  73.0549   72.8246   72.59332\n",
      "  72.36106  72.12782  71.8936   71.6584   71.42222  71.18506  70.94692\n",
      "  70.7078   70.4677   70.22662  69.98456  69.74152  69.4975   69.2525\n",
      "  69.00652  68.75956  68.51162  68.2627   68.0128   67.76192  67.51006\n",
      "  67.25722  67.0034   66.7486   66.49282  66.23606  65.97832  65.7196\n",
      "  65.4599   65.19922  64.93756  64.67492  64.4113   64.1467   63.88112\n",
      "  63.61456  63.34702  63.0785   62.809    62.53852  62.26706  61.99462\n",
      "  61.7212   61.4468   61.17142  60.89506  60.61772  60.3394   60.0601\n",
      "  59.77982  59.49856  59.21632  58.9331   58.6489   58.36372  58.07756\n",
      "  57.79042  57.5023   57.2132   56.92312  56.63206  56.34002  56.047\n",
      "  55.753    55.45802  55.16206  54.86512  54.5672   54.2683   53.96842\n",
      "  53.66756  53.36572  53.0629   52.7591   52.45432  52.14856  51.84182\n",
      "  51.5341   51.2254   50.91572  50.60506  50.29342  49.9808   49.6672\n",
      "  49.35262  49.03706  48.72052  48.403    48.0845   47.76502  47.44456\n",
      "  47.12312  46.8007   46.4773   46.15292  45.82756  45.50122  45.1739\n",
      "  44.8456   44.51632  44.18606  43.85482  43.5226   43.1894   42.85522\n",
      "  42.52006  42.18392  41.8468   41.5087   41.16962  40.82956  40.48852\n",
      "  40.1465   39.8035   39.45952  39.11456  38.76862  38.4217   38.0738\n",
      "  37.72492  37.37506  37.02422  36.6724   36.3196   35.96582  35.61106\n",
      "  35.25532  34.8986   34.5409   34.18222  33.82256  33.46192  33.1003\n",
      "  32.7377   32.37412  32.00956  31.64402  31.2775   30.91     30.54152\n",
      "  30.17206  29.80162  29.4302   29.0578   28.68442  28.31006  27.93472\n",
      "  27.5584   27.1811   26.80282  26.42356  26.04332  25.6621   25.2799\n",
      "  24.89672  24.51256  24.12742  23.7413   23.3542   22.96612  22.57706\n",
      "  22.18702  21.796    21.404    21.01102  20.61706  20.22212  19.8262\n",
      "  19.4293   19.03142  18.63256  18.23272  17.8319   17.4301   17.02732\n",
      "  16.62356  16.21882  15.8131   15.4064   14.99872  14.59006  14.18042\n",
      "  13.7698   13.3582   12.94562  12.53206  12.11752  11.702    11.2855\n",
      "  10.86802  10.44956  10.03012   9.6097    9.1883    8.76592   8.34256\n",
      "   7.91822   7.4929    7.0666    6.63932   6.21106   5.78182   5.3516\n",
      "   4.9204    4.48822   4.05506   3.62092   3.1858    2.7497    2.31262\n",
      "   1.87456   1.43552]\n",
      "[  0.     -0.098  -0.196  -0.294  -0.392  -0.49   -0.588  -0.686  -0.784\n",
      "  -0.882  -0.98   -1.078  -1.176  -1.274  -1.372  -1.47   -1.568  -1.666\n",
      "  -1.764  -1.862  -1.96   -2.058  -2.156  -2.254  -2.352  -2.45   -2.548\n",
      "  -2.646  -2.744  -2.842  -2.94   -3.038  -3.136  -3.234  -3.332  -3.43\n",
      "  -3.528  -3.626  -3.724  -3.822  -3.92   -4.018  -4.116  -4.214  -4.312\n",
      "  -4.41   -4.508  -4.606  -4.704  -4.802  -4.9    -4.998  -5.096  -5.194\n",
      "  -5.292  -5.39   -5.488  -5.586  -5.684  -5.782  -5.88   -5.978  -6.076\n",
      "  -6.174  -6.272  -6.37   -6.468  -6.566  -6.664  -6.762  -6.86   -6.958\n",
      "  -7.056  -7.154  -7.252  -7.35   -7.448  -7.546  -7.644  -7.742  -7.84\n",
      "  -7.938  -8.036  -8.134  -8.232  -8.33   -8.428  -8.526  -8.624  -8.722\n",
      "  -8.82   -8.918  -9.016  -9.114  -9.212  -9.31   -9.408  -9.506  -9.604\n",
      "  -9.702  -9.8    -9.898  -9.996 -10.094 -10.192 -10.29  -10.388 -10.486\n",
      " -10.584 -10.682 -10.78  -10.878 -10.976 -11.074 -11.172 -11.27  -11.368\n",
      " -11.466 -11.564 -11.662 -11.76  -11.858 -11.956 -12.054 -12.152 -12.25\n",
      " -12.348 -12.446 -12.544 -12.642 -12.74  -12.838 -12.936 -13.034 -13.132\n",
      " -13.23  -13.328 -13.426 -13.524 -13.622 -13.72  -13.818 -13.916 -14.014\n",
      " -14.112 -14.21  -14.308 -14.406 -14.504 -14.602 -14.7   -14.798 -14.896\n",
      " -14.994 -15.092 -15.19  -15.288 -15.386 -15.484 -15.582 -15.68  -15.778\n",
      " -15.876 -15.974 -16.072 -16.17  -16.268 -16.366 -16.464 -16.562 -16.66\n",
      " -16.758 -16.856 -16.954 -17.052 -17.15  -17.248 -17.346 -17.444 -17.542\n",
      " -17.64  -17.738 -17.836 -17.934 -18.032 -18.13  -18.228 -18.326 -18.424\n",
      " -18.522 -18.62  -18.718 -18.816 -18.914 -19.012 -19.11  -19.208 -19.306\n",
      " -19.404 -19.502 -19.6   -19.698 -19.796 -19.894 -19.992 -20.09  -20.188\n",
      " -20.286 -20.384 -20.482 -20.58  -20.678 -20.776 -20.874 -20.972 -21.07\n",
      " -21.168 -21.266 -21.364 -21.462 -21.56  -21.658 -21.756 -21.854 -21.952\n",
      " -22.05  -22.148 -22.246 -22.344 -22.442 -22.54  -22.638 -22.736 -22.834\n",
      " -22.932 -23.03  -23.128 -23.226 -23.324 -23.422 -23.52  -23.618 -23.716\n",
      " -23.814 -23.912 -24.01  -24.108 -24.206 -24.304 -24.402 -24.5   -24.598\n",
      " -24.696 -24.794 -24.892 -24.99  -25.088 -25.186 -25.284 -25.382 -25.48\n",
      " -25.578 -25.676 -25.774 -25.872 -25.97  -26.068 -26.166 -26.264 -26.362\n",
      " -26.46  -26.558 -26.656 -26.754 -26.852 -26.95  -27.048 -27.146 -27.244\n",
      " -27.342 -27.44  -27.538 -27.636 -27.734 -27.832 -27.93  -28.028 -28.126\n",
      " -28.224 -28.322 -28.42  -28.518 -28.616 -28.714 -28.812 -28.91  -29.008\n",
      " -29.106 -29.204 -29.302 -29.4   -29.498 -29.596 -29.694 -29.792 -29.89\n",
      " -29.988 -30.086 -30.184 -30.282 -30.38  -30.478 -30.576 -30.674 -30.772\n",
      " -30.87  -30.968 -31.066 -31.164 -31.262 -31.36  -31.458 -31.556 -31.654\n",
      " -31.752 -31.85  -31.948 -32.046 -32.144 -32.242 -32.34  -32.438 -32.536\n",
      " -32.634 -32.732 -32.83  -32.928 -33.026 -33.124 -33.222 -33.32  -33.418\n",
      " -33.516 -33.614 -33.712 -33.81  -33.908 -34.006 -34.104 -34.202 -34.3\n",
      " -34.398 -34.496 -34.594 -34.692 -34.79  -34.888 -34.986 -35.084 -35.182\n",
      " -35.28  -35.378 -35.476 -35.574 -35.672 -35.77  -35.868 -35.966 -36.064\n",
      " -36.162 -36.26  -36.358 -36.456 -36.554 -36.652 -36.75  -36.848 -36.946\n",
      " -37.044 -37.142 -37.24  -37.338 -37.436 -37.534 -37.632 -37.73  -37.828\n",
      " -37.926 -38.024 -38.122 -38.22  -38.318 -38.416 -38.514 -38.612 -38.71\n",
      " -38.808 -38.906 -39.004 -39.102 -39.2   -39.298 -39.396 -39.494 -39.592\n",
      " -39.69  -39.788 -39.886 -39.984 -40.082 -40.18  -40.278 -40.376 -40.474\n",
      " -40.572 -40.67  -40.768 -40.866 -40.964 -41.062 -41.16  -41.258 -41.356\n",
      " -41.454 -41.552 -41.65  -41.748 -41.846 -41.944 -42.042 -42.14  -42.238\n",
      " -42.336 -42.434 -42.532 -42.63  -42.728 -42.826 -42.924 -43.022 -43.12\n",
      " -43.218 -43.316 -43.414 -43.512 -43.61  -43.708 -43.806 -43.904 -44.002]\n"
     ]
    }
   ],
   "source": [
    "print(x)\n",
    "print(v)"
   ]
  },
  {
   "cell_type": "markdown",
   "metadata": {},
   "source": [
    "But that's not particularly useful.  Given data like this, we really should plot it.  The best tool for that in Python is MatPlotLib.\n",
    "\n",
    "### MatPlotLib\n",
    "\n",
    "MatPlotLib is a libray for Python dedicated to many different types of plots.  We need to import the library -- in this case, the interface we'll use is called *pyplot*:"
   ]
  },
  {
   "cell_type": "code",
   "execution_count": 29,
   "metadata": {},
   "outputs": [],
   "source": [
    "import matplotlib.pyplot as plt"
   ]
  },
  {
   "cell_type": "markdown",
   "metadata": {},
   "source": [
    "Plotting with matplotlib can be either complicated or simple, depending on how much control you want over the final plot.  Let's try it out with our arrays above."
   ]
  },
  {
   "cell_type": "code",
   "execution_count": 30,
   "metadata": {},
   "outputs": [
    {
     "data": {
      "image/png": "[encoded data removed]",
      "text/plain": [
       "<Figure size 432x288 with 1 Axes>"
      ]
     },
     "metadata": {
      "needs_background": "light"
     },
     "output_type": "display_data"
    }
   ],
   "source": [
    "plt.plot(t, x)\n",
    "plt.show()"
   ]
  },
  {
   "cell_type": "markdown",
   "metadata": {},
   "source": [
    "That ... looks pretty good, actually.  It's parabolic, which we expect.  I wonder how it compares to the analytic solution, which of course is\n",
    "$$\n",
    "x(t) = x_0 + v_0 t - \\tfrac{1}{2}gt^2.\n",
    "$$\n",
    "We can do that in the plot, too.  While we're at it, we'll do the same for velocity, and I'll put some axis labels on, too."
   ]
  },
  {
   "cell_type": "code",
   "execution_count": 31,
   "metadata": {},
   "outputs": [
    {
     "data": {
      "image/png": "[encoded data removed]",
      "text/plain": [
       "<Figure size 432x288 with 1 Axes>"
      ]
     },
     "metadata": {
      "needs_background": "light"
     },
     "output_type": "display_data"
    },
    {
     "data": {
      "image/png": "[encoded data removed]",
      "text/plain": [
       "<Figure size 432x288 with 1 Axes>"
      ]
     },
     "metadata": {
      "needs_background": "light"
     },
     "output_type": "display_data"
    }
   ],
   "source": [
    "plt.plot(t, x)\n",
    "plt.plot(t, x_0 + v_0 * t - 0.5 * g * t**2, \"--\")\n",
    "plt.xlabel(\"t (s)\")\n",
    "plt.ylabel(\"x (m)\")\n",
    "plt.show()\n",
    "\n",
    "plt.plot(t, v)\n",
    "plt.plot(t, v_0 - g * t, \"--\")\n",
    "plt.xlabel(\"t (s)\")\n",
    "plt.ylabel(\"v (m/s)\")\n",
    "plt.show()"
   ]
  },
  {
   "cell_type": "markdown",
   "metadata": {},
   "source": [
    "There we go!\n",
    "\n",
    "Of course, this is a boring problem.  Let's make it more interesting by introducing an additional force, say drag:\n",
    "$$\n",
    "F_d  = c v^2,\n",
    "$$\n",
    "where $c$ is some coefficient.  This is easy to do, we just change the force function above to add in this additional term (setting $c$ to some reasonable value).  I'll let you do that, and you can compare the drag case to the analytical examples above.  Have fun!"
   ]
  }
 ],
 "metadata": {
  "kernelspec": {
   "display_name": "Python 3",
   "language": "python",
   "name": "python3"
  },
  "language_info": {
   "codemirror_mode": {
    "name": "ipython",
    "version": 3
   },
   "file_extension": ".py",
   "mimetype": "text/x-python",
   "name": "python",
   "nbconvert_exporter": "python",
   "pygments_lexer": "ipython3",
   "version": "3.7.3"
  }
 },
 "nbformat": 4,
 "nbformat_minor": 2
}
