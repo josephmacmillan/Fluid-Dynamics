{
 "cells": [
  {
   "cell_type": "markdown",
   "metadata": {},
   "source": [
    "# The Brachistochrone\n",
    "\n",
    "As we saw in class, the path that takes the least time from point 1 (at the origin) to point 2 (at $x_2, y_2$) is a cycloid,\n",
    "\\begin{equation}\n",
    "x = a(\\theta - \\sin \\theta), \\quad y = a (1 - \\cos \\theta),\n",
    "\\end{equation}\n",
    "where $a$ must be found so that the curve passes through point 2.\n",
    "\n",
    "Let's play aournd with this a bit."
   ]
  },
  {
   "cell_type": "code",
   "execution_count": 25,
   "metadata": {},
   "outputs": [
    {
     "data": {
      "image/png": "[encoded data removed]",
      "text/plain": [
       "<matplotlib.figure.Figure at 0x287d34cbc50>"
      ]
     },
     "metadata": {},
     "output_type": "display_data"
    }
   ],
   "source": [
    "%matplotlib inline\n",
    "\n",
    "import numpy as np\n",
    "import matplotlib.pyplot as plt\n",
    "            \n",
    "a = 1\n",
    "\n",
    "theta = np.linspace(0.0, 1*np.pi, 100)\n",
    "x = a * (theta - np.sin(theta))\n",
    "y = -a * (1.0 - np.cos(theta))\n",
    "\n",
    "fig = plt.figure()\n",
    "ax = fig.add_subplot(111)\n",
    "ax.plot(x, y)\n",
    "ax.set_aspect('equal')"
   ]
  },
  {
   "cell_type": "markdown",
   "metadata": {
    "collapsed": true
   },
   "source": [
    "But what if we want the curve to pass through point (1,1)?  We just plug $x=1$, $y=1$ into the equations above.  With a little manipulation, we get an equation for theta:\n",
    "$$\n",
    "\\theta = 1 + \\sin\\theta - \\cos \\theta.\n",
    "$$\n",
    "This is a transcendental equation for $\\theta$, though, so we'll solve it using a method of successive approximation, where we \"guess\" at an answer, plug that into the right-hand-side, use that value as our new guess, and so on. Once we have the value of $\\theta$, we can plug that back in to get the value of $a$.\n",
    "\n",
    "Here's some python code to do that for us.\n",
    "\n"
   ]
  },
  {
   "cell_type": "code",
   "execution_count": 3,
   "metadata": {},
   "outputs": [
    {
     "name": "stdout",
     "output_type": "stream",
     "text": [
      "a = 0.572951612470758  theta = 2.4118531371772516\n"
     ]
    }
   ],
   "source": [
    "from math import sin, cos\n",
    "\n",
    "theta = 1.0 # that's the \"guess\"\n",
    "err = 1.0   # that's the percent diff from the previous result\n",
    "while err > 0.01:\n",
    "    test = 1.0 + sin(theta) - cos(theta)\n",
    "    err = abs(1.0 - theta/test)\n",
    "    theta = test\n",
    "a = 1.0 / (1.0 - cos(theta))\n",
    "print(\"a =\", a, \" theta =\", theta)"
   ]
  },
  {
   "cell_type": "markdown",
   "metadata": {
    "collapsed": true
   },
   "source": [
    "Now let's plot again with that value of $a$:"
   ]
  },
  {
   "cell_type": "code",
   "execution_count": 4,
   "metadata": {},
   "outputs": [
    {
     "data": {
      "image/png": "[encoded data removed]",
      "text/plain": [
       "<matplotlib.figure.Figure at 0x287d383de80>"
      ]
     },
     "metadata": {},
     "output_type": "display_data"
    }
   ],
   "source": [
    "a = 0.572951612471\n",
    "\n",
    "theta = np.linspace(0.0, 2.41185313718, 100)\n",
    "x = a * (theta - np.sin(theta))\n",
    "y = -a * (1.0 - np.cos(theta))\n",
    "\n",
    "fig = plt.figure()\n",
    "ax = fig.add_subplot(111)\n",
    "ax.plot(x, y)\n",
    "ax.set_aspect('equal')"
   ]
  },
  {
   "cell_type": "code",
   "execution_count": null,
   "metadata": {
    "collapsed": true
   },
   "outputs": [],
   "source": []
  }
 ],
 "metadata": {
  "kernelspec": {
   "display_name": "Python 3",
   "language": "python",
   "name": "python3"
  },
  "language_info": {
   "codemirror_mode": {
    "name": "ipython",
    "version": 3
   },
   "file_extension": ".py",
   "mimetype": "text/x-python",
   "name": "python",
   "nbconvert_exporter": "python",
   "pygments_lexer": "ipython3",
   "version": "3.6.1"
  }
 },
 "nbformat": 4,
 "nbformat_minor": 1
}
